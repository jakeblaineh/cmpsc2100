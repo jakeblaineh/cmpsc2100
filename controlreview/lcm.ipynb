{
 "cells": [
  {
   "cell_type": "code",
   "execution_count": 40,
   "metadata": {},
   "outputs": [
    {
     "name": "stdout",
     "output_type": "stream",
     "text": [
      "LCM of 6 and 10: 30\n",
      "LCM of 3 and 10: 30\n",
      "LCM of 10 and 30: 30\n"
     ]
    }
   ],
   "source": [
    "def lcm_finder(one,two):\n",
    "    for multiple in range(1,(one * two) + 1):\n",
    "        if multiple % one == 0 and multiple % two == 0:\n",
    "            return multiple\n",
    "            break\n",
    "\n",
    "print(f'LCM of 6 and 10: {lcm_finder(6,10)}')\n",
    "print(f'LCM of 3 and 10: {lcm_finder(3,10)}')\n",
    "print(f'LCM of 10 and 30: {lcm_finder(10,30)}')"
   ]
  },
  {
   "cell_type": "code",
   "execution_count": 45,
   "metadata": {},
   "outputs": [
    {
     "name": "stdout",
     "output_type": "stream",
     "text": [
      "LCM of 6 and 10: 30\n",
      "LCM of 3 and 10: 30\n",
      "LCM of 10 and 30: 30\n"
     ]
    }
   ],
   "source": [
    "def lcm_finder_1(one,two):\n",
    "    lcm = False\n",
    "    inc = 1\n",
    "    while lcm == False:\n",
    "        if one * inc % two == 0:\n",
    "            return one * inc\n",
    "            lcm == True\n",
    "        else:\n",
    "            inc = inc + 1\n",
    "\n",
    "print(f'LCM of 6 and 10: {lcm_finder(6,10)}')\n",
    "print(f'LCM of 3 and 10: {lcm_finder(3,10)}')\n",
    "print(f'LCM of 10 and 30: {lcm_finder(10,30)}')\n",
    "\n",
    "## i left a redundant variable in the first one i submitted"
   ]
  },
  {
   "cell_type": "code",
   "execution_count": null,
   "metadata": {},
   "outputs": [],
   "source": []
  }
 ],
 "metadata": {
  "kernelspec": {
   "display_name": "Python 3",
   "language": "python",
   "name": "python3"
  },
  "language_info": {
   "codemirror_mode": {
    "name": "ipython",
    "version": 3
   },
   "file_extension": ".py",
   "mimetype": "text/x-python",
   "name": "python",
   "nbconvert_exporter": "python",
   "pygments_lexer": "ipython3",
   "version": "3.10.13"
  }
 },
 "nbformat": 4,
 "nbformat_minor": 2
}
