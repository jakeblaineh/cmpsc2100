{
 "cells": [
  {
   "cell_type": "code",
   "execution_count": 3,
   "metadata": {},
   "outputs": [
    {
     "name": "stdout",
     "output_type": "stream",
     "text": [
      "28 is a perfect number.\n",
      "100 is not a perfect number.\n",
      "496 is a perfect number.\n"
     ]
    }
   ],
   "source": [
    "def is_perfect(chosen_num):\n",
    "    true_divisors = []\n",
    "    for divisor in range(1,chosen_num):\n",
    "        if chosen_num % divisor == 0:\n",
    "            true_divisors.append(divisor)\n",
    "        else: continue\n",
    "    sum_of_divisors = sum(true_divisors)\n",
    "    if sum_of_divisors == chosen_num:\n",
    "        print(f'{chosen_num} is a perfect number.')\n",
    "    else:\n",
    "        print(f'{chosen_num} is not a perfect number.')\n",
    "\n",
    "is_perfect(28)\n",
    "is_perfect(100)\n",
    "is_perfect(496)"
   ]
  },
  {
   "cell_type": "code",
   "execution_count": null,
   "metadata": {},
   "outputs": [],
   "source": []
  }
 ],
 "metadata": {
  "kernelspec": {
   "display_name": "Python 3",
   "language": "python",
   "name": "python3"
  },
  "language_info": {
   "codemirror_mode": {
    "name": "ipython",
    "version": 3
   },
   "file_extension": ".py",
   "mimetype": "text/x-python",
   "name": "python",
   "nbconvert_exporter": "python",
   "pygments_lexer": "ipython3",
   "version": "3.10.13"
  }
 },
 "nbformat": 4,
 "nbformat_minor": 2
}
