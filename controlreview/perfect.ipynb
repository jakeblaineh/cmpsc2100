{
 "cells": [
  {
   "cell_type": "code",
   "execution_count": 1,
   "metadata": {},
   "outputs": [
    {
     "name": "stdout",
     "output_type": "stream",
     "text": [
      "Is 28 a perfect number? True\n",
      "Is 100 a perfect number? False\n",
      "Is 496 a perfect number? True\n"
     ]
    }
   ],
   "source": [
    "def is_perfect(chosen_num):\n",
    "    true_divisors = []\n",
    "    for divisor in range(1,chosen_num):\n",
    "        if chosen_num % divisor == 0:\n",
    "            true_divisors.append(divisor)\n",
    "        else: continue\n",
    "    sum_of_divisors = sum(true_divisors)\n",
    "    if sum_of_divisors == chosen_num:\n",
    "        return True\n",
    "    else:\n",
    "        return False\n",
    "\n",
    "print(f'Is 28 a perfect number? {is_perfect(28)}')\n",
    "print(f'Is 100 a perfect number? {is_perfect(100)}')\n",
    "print(f'Is 496 a perfect number? {is_perfect(496)}')"
   ]
  },
  {
   "cell_type": "code",
   "execution_count": null,
   "metadata": {},
   "outputs": [],
   "source": []
  }
 ],
 "metadata": {
  "kernelspec": {
   "display_name": "Python 3",
   "language": "python",
   "name": "python3"
  },
  "language_info": {
   "codemirror_mode": {
    "name": "ipython",
    "version": 3
   },
   "file_extension": ".py",
   "mimetype": "text/x-python",
   "name": "python",
   "nbconvert_exporter": "python",
   "pygments_lexer": "ipython3",
   "version": "3.10.13"
  }
 },
 "nbformat": 4,
 "nbformat_minor": 2
}
