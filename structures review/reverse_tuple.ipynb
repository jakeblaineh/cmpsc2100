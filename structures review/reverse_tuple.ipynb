{
 "cells": [
  {
   "cell_type": "code",
   "execution_count": 20,
   "metadata": {},
   "outputs": [
    {
     "name": "stdout",
     "output_type": "stream",
     "text": [
      "True\n",
      "False\n"
     ]
    }
   ],
   "source": [
    "def reverse_tuple(tuple_set1,tuple_set2):\n",
    "    isreverse = False\n",
    "    for oneitem in tuple_set1:\n",
    "        for twoitem in tuple_set2:\n",
    "            if (oneitem[1],oneitem[0]) == twoitem:\n",
    "                isreverse = True\n",
    "                return isreverse\n",
    "        if isreverse == False:\n",
    "            return False\n",
    "\n",
    "        \n",
    "print(reverse_tuple({(1, 2), (3, 4)}, {(2, 1), (5, 6)}))\n",
    "print(reverse_tuple({(1, 2), (3, 4)}, {(1, 2), (2, 3)}))"
   ]
  },
  {
   "cell_type": "code",
   "execution_count": null,
   "metadata": {},
   "outputs": [],
   "source": []
  }
 ],
 "metadata": {
  "kernelspec": {
   "display_name": "Python 3",
   "language": "python",
   "name": "python3"
  },
  "language_info": {
   "codemirror_mode": {
    "name": "ipython",
    "version": 3
   },
   "file_extension": ".py",
   "mimetype": "text/x-python",
   "name": "python",
   "nbconvert_exporter": "python",
   "pygments_lexer": "ipython3",
   "version": "3.10.13"
  }
 },
 "nbformat": 4,
 "nbformat_minor": 2
}
